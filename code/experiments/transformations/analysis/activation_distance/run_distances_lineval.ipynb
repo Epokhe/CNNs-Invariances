{
 "cells": [
  {
   "cell_type": "code",
   "execution_count": null,
   "metadata": {
    "collapsed": true,
    "jupyter": {
     "outputs_hidden": true
    }
   },
   "outputs": [],
   "source": [
    "import os\n",
    "os.getcwd()\n",
    "os.chdir('/work')\n",
    "print(os.getcwd())\n",
    "current_folder = globals()['_dh'][0]\n",
    "import pathlib\n",
    "import sys\n",
    "del sys.argv[1]\n",
    "print(sys.path)\n",
    "from sty import fg, bg, rs, ef\n",
    "\n",
    "from experiments.transformations.analysis.activation_distance.activation_distance_utils import *"
   ]
  },
  {
   "cell_type": "code",
   "execution_count": null,
   "metadata": {
    "collapsed": false,
    "jupyter": {
     "outputs_hidden": false
    },
    "pycharm": {
     "name": "#%%\n"
    }
   },
   "outputs": [],
   "source": [
    "def save_act_dist_shapenet(pt, transform, distance_transform):\n",
    "    vp = 50 if transform == 'v' or transform == 'vtrs' else 1\n",
    "    if transform == 'vanilla':\n",
    "        exp.pretraining = 'vanilla'\n",
    "        net = exp.get_net(1000)\n",
    "        net_name = 'vanilla'\n",
    "    elif transform == 'ImageNet':\n",
    "        exp.pretraining = './models/ptImageNet/vgg11bn.pt'\n",
    "        net = exp.get_net(1000)\n",
    "        net_name = 'ImageNet'\n",
    "    else:\n",
    "        net_name = 'LINEVAL_' + (f'pt[T{transform}+set1+objs10]' if pt == 1 else 'vanilla') + f'_T-{transform}_objs10_vp1_mat0_trset2'\n",
    "        exp.pretraining = f'./models/transformations/ShapeNet/vgg11bn/lineval/{net_name}.pickle'\n",
    "        try:\n",
    "            net = exp.get_net(dataset_no_transf.num_classes)\n",
    "        except AssertionError as p:\n",
    "            print(fg.yellow + p.args + rs.fg)\n",
    "    net.cuda()\n",
    "    log_dataset = 'shapeNetSetRest'\n",
    "\n",
    "    distAct = get_distance_fun(distance_transform)\n",
    "\n",
    "    dist = distAct(net, dataset_no_transf, use_cuda=exp.use_cuda, distance=distance)\n",
    "    distance_net, distance_img, x_values = dist.calculate_distance_dataloader()\n",
    "    output_path = f'{result_folder}/activation_distance/ShapeNet/vgg11bn/lineval/{distance}_{distance_transform}_{log_dataset}_{net_name}.pickle'\n",
    "    pathlib.Path(os.path.dirname(output_path)).mkdir(parents=True, exist_ok=True)\n",
    "\n",
    "    pickle.dump({'distance_net': distance_net, 'distance_img': distance_img, 'x_values': x_values}, open(output_path,'wb'))\n",
    "\n"
   ]
  },
  {
   "cell_type": "code",
   "execution_count": null,
   "metadata": {
    "collapsed": false,
    "jupyter": {
     "outputs_hidden": false
    },
    "pycharm": {
     "name": "#%%\n"
    }
   },
   "outputs": [],
   "source": [
    "result_folder = './results/transformations/'\n",
    "type_dataset = 'rest'\n",
    "exp, dataset_no_transf = get_experiment_shapeNet(type_dataset)"
   ]
  },
  {
   "cell_type": "code",
   "execution_count": null,
   "metadata": {
    "collapsed": false,
    "jupyter": {
     "outputs_hidden": false
    },
    "pycharm": {
     "name": "#%%\n"
    }
   },
   "outputs": [],
   "source": [
    "distance = 'cossim'\n",
    "save_act_dist_shapenet(1, 'v', 'VP')\n",
    "save_act_dist_shapenet(1, 'r', 'Rotate')\n",
    "save_act_dist_shapenet(1, 's', 'Scale')\n",
    "save_act_dist_shapenet(1, 't', 'Translate')\n",
    "\n",
    "save_act_dist_shapenet(0, 'v', 'VP')\n",
    "save_act_dist_shapenet(0, 'r', 'Rotate')\n",
    "save_act_dist_shapenet(0, 's', 'Scale')\n",
    "save_act_dist_shapenet(0, 't', 'Translate')\n",
    "\n",
    "\n",
    "all_t = ['vtrs', 'v', 't', 'r', 's']\n",
    "[save_act_dist_shapenet(1, i, 'DiffClasses') for i in all_t]\n",
    "[save_act_dist_shapenet(0, i, 'DiffClasses') for i in all_t]\n",
    "\n",
    "typeNet = ''\n",
    "all_d = ['VP', 'Rotate', 'Scale', 'Translate', 'DiffClasses']\n",
    "[save_act_dist_shapenet(1, typeNet, i) for i in all_d]\n",
    "\n",
    "typeNet = 'vanilla'\n",
    "[save_act_dist_shapenet(None, typeNet, i) for i in all_d]\n",
    "\n",
    "typeNet = 'ImageNet'\n",
    "[save_act_dist_shapenet(typeNet, i) for i in all_d]\n",
    "\n",
    "\n",
    "##\n"
   ]
  }
 ],
 "metadata": {
  "kernelspec": {
   "display_name": "Python 3",
   "language": "python",
   "name": "python3"
  },
  "language_info": {
   "codemirror_mode": {
    "name": "ipython",
    "version": 3
   },
   "file_extension": ".py",
   "mimetype": "text/x-python",
   "name": "python",
   "nbconvert_exporter": "python",
   "pygments_lexer": "ipython3",
   "version": "3.8.3"
  }
 },
 "nbformat": 4,
 "nbformat_minor": 4
<<<<<<< HEAD
}
=======
}
>>>>>>> d071ab3 (moved stuff inside code folder)
